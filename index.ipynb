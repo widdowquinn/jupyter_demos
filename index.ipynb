{
 "cells": [
  {
   "cell_type": "markdown",
   "metadata": {},
   "source": [
    "# Jupyter Demos\n",
    "\n",
    "This repository provides demonstration `Jupyter` notebooks illustrating a number of uses and packages in `Python` and `R`. It is not a coherent course in using notebooks or any particular language or package, rather a set of notes for my own use and to aid my memory. I'm delighted if it's any use to other people.\n",
    "\n",
    "The code is MIT-licensed, so it's free to use and adapt. If you'd like to make suggestions or changes, pull requests and issues are welcome:\n",
    "\n",
    "- [Pull Requests](https://github.com/widdowquinn/jupyter_demos/pulls)\n",
    "- [Issues](https://github.com/widdowquinn/jupyter_demos/issues)\n",
    "\n",
    "The notebooks can be run at [`MyBinder`](https://mybinder.org/v2/gh/widdowquinn/jupyter_demos/master):\n",
    "\n",
    "[![Binder](https://mybinder.org/badge_logo.svg)](https://mybinder.org/v2/gh/widdowquinn/jupyter_demos/master)"
   ]
  },
  {
   "cell_type": "markdown",
   "metadata": {},
   "source": [
    "## Sections\n",
    "\n",
    "1. Introduction\n",
    "    - General `Jupyter` notebook operations\n",
    "    - [01.](./01-introduction/01-types_of_cell.ipynb) types of cell\n",
    "    - [02.](./01-introduction/02-markdown_format.ipynb) markdown formatting\n",
    "    - [03.](./01-introduction/03-order_of_execution.ipynb) order of cell execution\n",
    "    - [04.](./01-introduction/04-bash.ipynb) using the `bash` shell from a notebook\n",
    "2. Python\n",
    "    - [01.](./02-python/01-introduction.ipynb) introduction\n",
    "    - [02.](./02-python/02-example_analysis.ipynb) an example analysis (Random Forest regression)\n",
    "    - [03.](./02-python/03-r_from_python.ipynb) using `R` from a `Python` notebook\n",
    "    - [04.](./02-python/04-beakerx.ipynb) using the [`BeakerX`](http://beakerx.com/) package\n",
    "3. R\n",
    "    - [01.](./03-r/01-introduction.ipynb) introduction"
   ]
  },
  {
   "cell_type": "code",
   "execution_count": null,
   "metadata": {},
   "outputs": [],
   "source": []
  }
 ],
 "metadata": {
  "kernelspec": {
   "display_name": "Python 3",
   "language": "python",
   "name": "python3"
  },
  "language_info": {
   "codemirror_mode": {
    "name": "ipython",
    "version": 3
   },
   "file_extension": ".py",
   "mimetype": "text/x-python",
   "name": "python",
   "nbconvert_exporter": "python",
   "pygments_lexer": "ipython3",
   "version": "3.7.3"
  }
 },
 "nbformat": 4,
 "nbformat_minor": 2
}
