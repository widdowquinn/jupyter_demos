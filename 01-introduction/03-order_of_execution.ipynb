{
 "cells": [
  {
   "cell_type": "markdown",
   "metadata": {},
   "source": [
    "# Order of execution\n",
    "\n",
    "The kernel sits in the background and its state is updated each time you run a code cell. This is fine, but can lead to unexpected behaviour if you don't know about it.\n",
    "\n",
    "Typically, notebooks are written so that cells are executed in order from top to bottom, but that's not always how we use notebooks when developing exploratory code, and it can catch you out."
   ]
  },
  {
   "cell_type": "code",
   "execution_count": 1,
   "metadata": {},
   "outputs": [],
   "source": [
    "# Execute this cell first\n",
    "my_name = \"Walter\"\n",
    "x = 5\n",
    "y = -1"
   ]
  },
  {
   "cell_type": "markdown",
   "metadata": {},
   "source": [
    "<div class=\"alert alert-block alert-info\">\n",
    "<b>NOTE:</b> In the cell below, we print the *current* state of `my_name`, `x` and `y`.\n",
    "    \n",
    "Run this cell after executing each of the code cells below, to see how the state updates regardless of the order of cell execution.\n",
    "</div>"
   ]
  },
  {
   "cell_type": "code",
   "execution_count": 2,
   "metadata": {},
   "outputs": [
    {
     "name": "stdout",
     "output_type": "stream",
     "text": [
      "My name is Walter. I am 5 years old, and my favourite temperature is -1.\n"
     ]
    }
   ],
   "source": [
    "print(\"My name is {}. I am {} years old, and my favourite temperature is {}.\".format(my_name, x, y))"
   ]
  },
  {
   "cell_type": "code",
   "execution_count": 3,
   "metadata": {},
   "outputs": [],
   "source": [
    "# Execute this cell, then run the print() statement again\n",
    "my_name = \"Shanti\"\n",
    "x = 44\n",
    "y = 98.5"
   ]
  },
  {
   "cell_type": "code",
   "execution_count": 4,
   "metadata": {},
   "outputs": [],
   "source": [
    "# Execute this cell, then run the print() statement again\n",
    "my_name = range\n",
    "x = \"Not a number\"\n",
    "y = None"
   ]
  },
  {
   "cell_type": "markdown",
   "metadata": {},
   "source": [
    "## How bad can it get?\n",
    "\n",
    "Most of the time, everything is fine. Notebooks are intended to be read and executed from start to end, and when used that way, there aren't any problems.\n",
    "\n",
    "However, the kernel is essentially *hidden state*, which can - and will from time to time - catch you out!\n",
    "\n",
    "Try executing the cells below in order:"
   ]
  },
  {
   "cell_type": "code",
   "execution_count": 5,
   "metadata": {},
   "outputs": [],
   "source": [
    "def f(x):\n",
    "    return x + 2"
   ]
  },
  {
   "cell_type": "code",
   "execution_count": 6,
   "metadata": {},
   "outputs": [],
   "source": [
    "y = f(2)"
   ]
  },
  {
   "cell_type": "code",
   "execution_count": 7,
   "metadata": {},
   "outputs": [
    {
     "data": {
      "text/plain": [
       "True"
      ]
     },
     "execution_count": 7,
     "metadata": {},
     "output_type": "execute_result"
    }
   ],
   "source": [
    "y == 4"
   ]
  },
  {
   "cell_type": "code",
   "execution_count": 8,
   "metadata": {},
   "outputs": [
    {
     "name": "stdout",
     "output_type": "stream",
     "text": [
      "4\n"
     ]
    }
   ],
   "source": [
    "print(y)"
   ]
  },
  {
   "cell_type": "markdown",
   "metadata": {},
   "source": [
    "Everything looks great:\n",
    "\n",
    "![Everything looks great](../images/order_01.png)"
   ]
  },
  {
   "cell_type": "markdown",
   "metadata": {},
   "source": [
    "But what's this?\n",
    "\n",
    "![Out of order](../images/order_02.png)\n",
    "\n",
    "These aren't the answers we expect!\n",
    "\n",
    "But by looking at the order of execution, we can see that the cells were run out of order. That's easy to spot, I guess."
   ]
  },
  {
   "cell_type": "markdown",
   "metadata": {},
   "source": [
    "Yes, but:\n",
    "\n",
    "![Yes, but](../images/order_03.png)\n",
    "\n",
    "Now the cells *were* run in order, and the answers are still wrong!\n",
    "\n",
    "Looking at the order of execution, we can see that something was run between the first two cells. We don't know what, though…"
   ]
  },
  {
   "cell_type": "markdown",
   "metadata": {},
   "source": [
    "## Your first taste of \"magics\"\n",
    "\n",
    "How can we see what order things were run in?\n",
    "\n",
    "There are some special commands that can be run in cells, called *magics*. They start with a `%` character, and do \"meta\" things in the notebook.\n",
    "\n",
    "One *magic* is the `%history` magic, which will report every piece of code that was run. in order:"
   ]
  },
  {
   "cell_type": "code",
   "execution_count": 9,
   "metadata": {},
   "outputs": [
    {
     "name": "stdout",
     "output_type": "stream",
     "text": [
      "# Execute this cell first\n",
      "my_name = \"Walter\"\n",
      "x = 5\n",
      "y = -1\n",
      "print(\"My name is {}. I am {} years old, and my favourite temperature is {}.\".format(my_name, x, y))\n",
      "# Execute this cell, then run the print() statement again\n",
      "my_name = \"Shanti\"\n",
      "x = 44\n",
      "y = 98.5\n",
      "# Execute this cell, then run the print() statement again\n",
      "my_name = range\n",
      "x = \"Not a number\"\n",
      "y = None\n",
      "def f(x):\n",
      "    return x + 2\n",
      "y = f(2)\n",
      "y == 4\n",
      "print(y)\n",
      "%history\n"
     ]
    }
   ],
   "source": [
    "%history"
   ]
  },
  {
   "cell_type": "markdown",
   "metadata": {},
   "source": [
    "So that's all solved, right? We can look at the execution order down the left hand side, check `%history` and see what was going on.\n",
    "\n",
    "Well…"
   ]
  },
  {
   "cell_type": "markdown",
   "metadata": {},
   "source": [
    "Oh, now what?\n",
    "\n",
    "![Oh, now what?](../images/order_04.png)\n",
    "\n",
    "I've not hacked the notebook or anything. There are no clues in the cell execution order as to why this looks *profoundly wrong*.\n",
    "\n",
    "All I've done is edit the first cell without executing it.\n",
    "\n",
    "Many of the puzzling things you will find, and that novices will be confused about, will be the result of *hidden state* that isn't obvious."
   ]
  },
  {
   "cell_type": "markdown",
   "metadata": {},
   "source": [
    "## It's not all bad\n",
    "\n",
    "There are certainly things to complain about with notebooks, much of which comes from hidden state, the inability to write reusable, modular, testable code.\n",
    "\n",
    "Joel Grus, from whose talk (linked below) I borrowed the example above, has issues with notebooks. I agree with pretty much all of his gripes:\n",
    "\n",
    "- [\"I don't like notebooks\" - Joel Grus](https://docs.google.com/presentation/d/1n2RlMdmv1p25Xy5thJUhkKGvjtV-dkAIsUXP-AL4ffI/edit#slide=id.g3a428e2eb8_0_241)"
   ]
  },
  {
   "cell_type": "code",
   "execution_count": null,
   "metadata": {},
   "outputs": [],
   "source": []
  }
 ],
 "metadata": {
  "kernelspec": {
   "display_name": "Python 3",
   "language": "python",
   "name": "python3"
  },
  "language_info": {
   "codemirror_mode": {
    "name": "ipython",
    "version": 3
   },
   "file_extension": ".py",
   "mimetype": "text/x-python",
   "name": "python",
   "nbconvert_exporter": "python",
   "pygments_lexer": "ipython3",
   "version": "3.7.3"
  },
  "toc": {
   "base_numbering": 1,
   "nav_menu": {},
   "number_sections": false,
   "sideBar": false,
   "skip_h1_title": false,
   "title_cell": "Table of Contents",
   "title_sidebar": "Contents",
   "toc_cell": false,
   "toc_position": {},
   "toc_section_display": false,
   "toc_window_display": false
  }
 },
 "nbformat": 4,
 "nbformat_minor": 2
}
