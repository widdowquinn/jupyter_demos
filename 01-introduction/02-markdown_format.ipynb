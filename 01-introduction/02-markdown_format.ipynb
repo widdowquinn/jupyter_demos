{
 "cells": [
  {
   "cell_type": "markdown",
   "metadata": {},
   "source": [
    "# Markdown cell formatting\n",
    "\n",
    "`Jupyter` notebook Markdown cells allow the user to write nicely-formatted text using Markdown, a common lightweight markup language with many implementations, including at `GitHub` and in `RStudio`.\n",
    "\n",
    "- [Markdown reference](https://www.markdownguide.org/)\n",
    "\n",
    "Markdown cells also accept HTML syntax, which is useful for more complex formatting.\n",
    "\n",
    "Some examples of formatting are shown below."
   ]
  },
  {
   "cell_type": "markdown",
   "metadata": {},
   "source": [
    "```markdown\n",
    "# This is a level 1 heading\n",
    "```\n",
    "\n",
    "# This is a level 1 heading\n",
    "\n",
    "```html\n",
    "<h1>This is also a level 1 heading</h1>\n",
    "```\n",
    "\n",
    "<h1>This is also a level 1 heading</h1>"
   ]
  },
  {
   "cell_type": "markdown",
   "metadata": {},
   "source": [
    "```markdown\n",
    "## This is a level 2 heading\n",
    "```\n",
    "\n",
    "## This is a level 2 heading\n",
    "\n",
    "```html\n",
    "<h2>This is a level 2 heading</h2>\n",
    "```\n",
    "\n",
    "<h2>This is also a level 2 heading</h2>"
   ]
  },
  {
   "cell_type": "markdown",
   "metadata": {},
   "source": [
    "```markdown\n",
    "This is some plain text, presented as a paragraph.\n",
    "\n",
    "We can split paragraphs with a blank line\n",
    "```\n",
    "\n",
    "This is some plain text, presented as a paragraph.\n",
    "\n",
    "We can split paragraphs with a blank line\n"
   ]
  },
  {
   "cell_type": "markdown",
   "metadata": {},
   "source": [
    "```markdown\n",
    "Text can be *italicised* or _italicised_, and emphasis can be in **bold** or __bold__.\n",
    "```\n",
    "\n",
    "Text can be *italicised* or _italicised_, and emphasis can be in **bold** or __bold__.\n",
    "\n",
    "```html\n",
    "Text can be <i>italicised</i>, and emphasis can be in <b>bold</b>.\n",
    "```\n",
    "\n",
    "Text can be <i>italicised</i>, and emphasis can be in <b>bold</b>."
   ]
  },
  {
   "cell_type": "markdown",
   "metadata": {},
   "source": [
    "```markdown\n",
    "- Sometimes we want an unordered list\n",
    "- Like this one\n",
    "    - Occasionally the list might have indented elements\n",
    "```\n",
    "\n",
    "- Sometimes we want an unordered list\n",
    "- Like this one\n",
    "    - Occasionally the list might have indented elements\n",
    "\n",
    "```markdown\n",
    "1. Lists can be ordered\n",
    "2. When this is reasonable\n",
    "    1. Or convenient\n",
    "```\n",
    "\n",
    "1. Lists can be numbered\n",
    "2. When this is reasonable\n",
    "    1. Or convenient\n"
   ]
  },
  {
   "cell_type": "markdown",
   "metadata": {},
   "source": [
    "```markdown\n",
    "We can make [hyperlinks](https://en.wikipedia.org/wiki/Hyperlink)\n",
    "```\n",
    "\n",
    "We can make [hyperlinks](https://en.wikipedia.org/wiki/Hyperlink)"
   ]
  },
  {
   "cell_type": "markdown",
   "metadata": {},
   "source": [
    "```markdown\n",
    "It's possible to write inline code, with backticks: `print(\"Hello world!\")`.\n",
    "```\n",
    "\n",
    "It's possible to write inline code, with backticks: `print(\"Hello world!\")`"
   ]
  },
  {
   "cell_type": "markdown",
   "metadata": {},
   "source": [
    "```markdown\n",
    "Code blocks can be written with *fences* of triple backticks, and the syntax highlighting specified with the language:\n",
    "```\n",
    "\n",
    "<pre>\n",
    "```python\n",
    "def say_hello():\n",
    "    print(\"Hello world!\")\n",
    "```\n",
    "</pre>\n",
    "\n",
    "\n",
    "Code blocks can be written with *fences* of triple backticks, and the syntax highlighting specified with the language:\n",
    "\n",
    "```python\n",
    "def say_hello():\n",
    "    print(\"Hello world!\")\n",
    "```\n"
   ]
  },
  {
   "cell_type": "markdown",
   "metadata": {},
   "source": [
    "```markdown\n",
    "We can add images, with alt-text:\n",
    "\n",
    "![Hutton logo](../images/jhi.png)\n",
    "```\n",
    "\n",
    "We can add images, with alt-text:\n",
    "\n",
    "![Hutton logo](../images/jhi.png)"
   ]
  },
  {
   "cell_type": "markdown",
   "metadata": {},
   "source": [
    "```markdown\n",
    "CSS styles can be specified for complete notebooks (though we'll not do it here), and there are some existing classes that can be used, such as:\n",
    "\n",
    "<div class=\"alert alert-block alert-info\">\n",
    "<b>Tip:</b> Use blue boxes (alert-info) for tips and notes. \n",
    "If it’s a note, you don’t have to include the word “Note”.\n",
    "</div>\n",
    "\n",
    "<div class=\"alert alert-block alert-warning\">\n",
    "<b>Example:</b> Use yellow boxes for examples that are not \n",
    "inside code cells, or use for mathematical formulas if needed.\n",
    "</div>\n",
    "\n",
    "<div class=\"alert alert-block alert-success\">\n",
    "<b>Up to you:</b> Use green boxes sparingly, and only for some specific \n",
    "purpose that the other boxes can't cover. For example, if you have a lot \n",
    "of related content to link to, maybe you decide to use green boxes for \n",
    "related links from each section of a notebook.\n",
    "</div>\n",
    "\n",
    "<div class=\"alert alert-block alert-danger\">\n",
    "<b>Just don't:</b> In general, avoid the red boxes. These should only be\n",
    "used for actions that might cause data loss or another major issue.\n",
    "</div>\n",
    "```\n",
    "\n",
    "CSS styles can be specified for complete notebooks (though we'll not do it here), and there are some existing classes that can be used, such as:\n",
    "\n",
    "<div class=\"alert alert-block alert-info\">\n",
    "<b>Tip:</b> Use blue boxes (alert-info) for tips and notes. \n",
    "If it’s a note, you don’t have to include the word “Note”.\n",
    "</div>\n",
    "\n",
    "<div class=\"alert alert-block alert-warning\">\n",
    "<b>Example:</b> Use yellow boxes for examples that are not \n",
    "inside code cells, or use for mathematical formulas if needed.\n",
    "</div>\n",
    "\n",
    "<div class=\"alert alert-block alert-success\">\n",
    "<b>Up to you:</b> Use green boxes sparingly, and only for some specific \n",
    "purpose that the other boxes can't cover. For example, if you have a lot \n",
    "of related content to link to, maybe you decide to use green boxes for \n",
    "related links from each section of a notebook.\n",
    "</div>\n",
    "\n",
    "<div class=\"alert alert-block alert-danger\">\n",
    "<b>Just don't:</b> In general, avoid the red boxes. These should only be\n",
    "used for actions that might cause data loss or another major issue.\n",
    "</div>"
   ]
  },
  {
   "cell_type": "markdown",
   "metadata": {},
   "source": [
    "```markdown\n",
    "One thing I love is the ability to use $\\LaTeX$ for maths directly in the Markdown cell, like $e^{i\\pi} + 1 = 0$.\n",
    "\n",
    "$$R_{\\mu v} - \\frac{1}{2} R g_{\\mu v} = \\frac{8 \\pi G}{c^4} T_{\\mu v}$$\n",
    "\n",
    "\\begin{equation}\n",
    "f(x) = \\text{li}(x) - \\sum_{\\rho} \\text{li}(x^\\rho) - \\log(2) + \\int_{x}^{\\infty} \\frac{dt}{t (t^2 - 1) \\log(t)}\n",
    "\\end{equation}\n",
    "\n",
    "\\begin{cases}\n",
    "5 x + 5 y && = && 10 \\\\\n",
    "2 x - 4 y && = && -2\n",
    "\\end{cases}\n",
    "```\n",
    "\n",
    "One thing I love is the ability to use $\\LaTeX$ for maths directly in the Markdown cell, like $e^{i\\pi} + 1 = 0$.\n",
    "\n",
    "$$R_{\\mu v} - \\frac{1}{2} R g_{\\mu v} = \\frac{8 \\pi G}{c^4} T_{\\mu v}$$\n",
    "\n",
    "\\begin{equation}\n",
    "f(x) = \\text{li}(x) - \\sum_{\\rho} \\text{li}(x^\\rho) - \\log(2) + \\int_{x}^{\\infty} \\frac{dt}{t (t^2 - 1) \\log(t)} \\label{eq:1}\n",
    "\\end{equation}\n",
    "\n",
    "\\begin{cases}\n",
    "5 x + 5 y && = && 10 \\\\\n",
    "2 x - 4 y && = && -2\n",
    "\\end{cases}"
   ]
  },
  {
   "cell_type": "code",
   "execution_count": null,
   "metadata": {},
   "outputs": [],
   "source": []
  }
 ],
 "metadata": {
  "kernelspec": {
   "display_name": "Python 3",
   "language": "python",
   "name": "python3"
  },
  "language_info": {
   "codemirror_mode": {
    "name": "ipython",
    "version": 3
   },
   "file_extension": ".py",
   "mimetype": "text/x-python",
   "name": "python",
   "nbconvert_exporter": "python",
   "pygments_lexer": "ipython3",
   "version": "3.7.3"
  },
  "toc": {
   "base_numbering": 1,
   "nav_menu": {},
   "number_sections": false,
   "sideBar": false,
   "skip_h1_title": false,
   "title_cell": "Table of Contents",
   "title_sidebar": "Contents",
   "toc_cell": false,
   "toc_position": {},
   "toc_section_display": false,
   "toc_window_display": false
  }
 },
 "nbformat": 4,
 "nbformat_minor": 2
}
