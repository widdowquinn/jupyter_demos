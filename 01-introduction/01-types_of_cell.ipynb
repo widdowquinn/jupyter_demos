{
 "cells": [
  {
   "cell_type": "markdown",
   "metadata": {},
   "source": [
    "# Types of cell\n",
    "\n",
    "There are two types of cell in a `Jupyter` notebook:\n",
    "\n",
    "- Markdown cells\n",
    "- Code cells\n",
    "\n",
    "*This* is a Markdown cell. It contains test formatted in [`Markdown`](https://www.markdownguide.org/), and displays output in-place when it is run."
   ]
  },
  {
   "cell_type": "code",
   "execution_count": 1,
   "metadata": {},
   "outputs": [
    {
     "name": "stdout",
     "output_type": "stream",
     "text": [
      "Hello notebook world!\n"
     ]
    }
   ],
   "source": [
    "# This is a code cell. Because we are using a Python 3 kernel, you can write\n",
    "# Python 3 code in the cell and, when it is run, the output will be displayed\n",
    "# below the cell.\n",
    "print(\"Hello notebook world!\")"
   ]
  },
  {
   "cell_type": "markdown",
   "metadata": {},
   "source": []
  }
 ],
 "metadata": {
  "kernelspec": {
   "display_name": "Python 3",
   "language": "python",
   "name": "python3"
  },
  "language_info": {
   "codemirror_mode": {
    "name": "ipython",
    "version": 3
   },
   "file_extension": ".py",
   "mimetype": "text/x-python",
   "name": "python",
   "nbconvert_exporter": "python",
   "pygments_lexer": "ipython3",
   "version": "3.7.3"
  },
  "toc": {
   "base_numbering": 1,
   "nav_menu": {},
   "number_sections": false,
   "sideBar": false,
   "skip_h1_title": false,
   "title_cell": "Table of Contents",
   "title_sidebar": "Contents",
   "toc_cell": false,
   "toc_position": {},
   "toc_section_display": false,
   "toc_window_display": false
  }
 },
 "nbformat": 4,
 "nbformat_minor": 2
}
