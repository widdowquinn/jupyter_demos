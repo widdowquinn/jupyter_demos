{
 "cells": [
  {
   "cell_type": "markdown",
   "metadata": {},
   "source": [
    "# 04. Using the `bash` shell from a notebook\n",
    "\n",
    "Where the `bash` shell is available, a new terminal can be started in Jupyter by clicking `New` and choosing `Terminal` from the drop-down menu when on the Jupyter Notebook Home page.\n",
    "\n",
    "In addition to this, the `bash` shell can be used in a number of ways from within a notebook running another kernel, such as `Python` (as in this notebook)."
   ]
  },
  {
   "cell_type": "markdown",
   "metadata": {},
   "source": [
    "## Running a single command\n",
    "\n",
    "To run a `bash` command in a code cell, prefix the command with an exclamation mark/bang symbol:"
   ]
  },
  {
   "cell_type": "code",
   "execution_count": 1,
   "metadata": {},
   "outputs": [
    {
     "name": "stdout",
     "output_type": "stream",
     "text": [
      "01-types_of_cell.ipynb      03-order_of_execution.ipynb\r\n",
      "02-markdown_format.ipynb    04-bash.ipynb\r\n"
     ]
    }
   ],
   "source": [
    "!ls"
   ]
  },
  {
   "cell_type": "markdown",
   "metadata": {},
   "source": [
    "Redirections and pipes work when using the `!`"
   ]
  },
  {
   "cell_type": "code",
   "execution_count": 2,
   "metadata": {},
   "outputs": [
    {
     "name": "stdout",
     "output_type": "stream",
     "text": [
      "{\r\n",
      " \"cells\": [\r\n",
      "  {\r\n",
      "   \"cell_type\": \"markdown\",\r\n",
      "   \"metadata\": {},\r\n",
      "   \"source\": [\r\n",
      "    \"# Types of cell\\n\",\r\n",
      "    \"\\n\",\r\n",
      "    \"There are two types of cell in a `Jupyter` notebook:\\n\",\r\n",
      "    \"\\n\",\r\n"
     ]
    }
   ],
   "source": [
    "!cat 01-types_of_cell.ipynb | head"
   ]
  },
  {
   "cell_type": "markdown",
   "metadata": {},
   "source": [
    "## Using the `bash` kernel\n",
    "\n",
    "A code cell can be made into a `bash` script using the `%%bash` magic:"
   ]
  },
  {
   "cell_type": "code",
   "execution_count": 3,
   "metadata": {},
   "outputs": [
    {
     "name": "stdout",
     "output_type": "stream",
     "text": [
      "1\n",
      "3\n",
      "6\n",
      "10\n",
      "15\n",
      "21\n",
      "28\n",
      "36\n",
      "45\n",
      "55\n"
     ]
    }
   ],
   "source": [
    "%%bash\n",
    "\n",
    "val=0\n",
    "\n",
    "for inc in {1..10}\n",
    "do\n",
    "    val=$((${val}+${inc}))\n",
    "    echo ${val}\n",
    "done"
   ]
  },
  {
   "cell_type": "markdown",
   "metadata": {},
   "source": [
    "The `%%bash` kernel has full access to the filesystem:"
   ]
  },
  {
   "cell_type": "code",
   "execution_count": 4,
   "metadata": {},
   "outputs": [
    {
     "name": "stdout",
     "output_type": "stream",
     "text": [
      ".\n",
      "├── 01-types_of_cell.ipynb\n",
      "├── 02-markdown_format.ipynb\n",
      "├── 03-order_of_execution.ipynb\n",
      "├── 04-bash.ipynb\n",
      "└── tmpdir\n",
      "    ├── a.txt\n",
      "    ├── b.txt\n",
      "    ├── c.txt\n",
      "    ├── d.txt\n",
      "    ├── e.txt\n",
      "    ├── f.txt\n",
      "    ├── g.txt\n",
      "    ├── h.txt\n",
      "    ├── i.txt\n",
      "    ├── j.txt\n",
      "    ├── k.txt\n",
      "    ├── l.txt\n",
      "    ├── m.txt\n",
      "    ├── n.txt\n",
      "    ├── o.txt\n",
      "    ├── p.txt\n",
      "    ├── q.txt\n",
      "    ├── r.txt\n",
      "    ├── s.txt\n",
      "    ├── t.txt\n",
      "    ├── u.txt\n",
      "    ├── v.txt\n",
      "    ├── w.txt\n",
      "    ├── x.txt\n",
      "    ├── y.txt\n",
      "    └── z.txt\n",
      "\n",
      "1 directory, 30 files\n",
      "01-types_of_cell.ipynb\n",
      "02-markdown_format.ipynb\n",
      "03-order_of_execution.ipynb\n",
      "04-bash.ipynb\n"
     ]
    }
   ],
   "source": [
    "%%bash\n",
    "\n",
    "TMPDIR=\"tmpdir\"\n",
    "mkdir -p ${TMPDIR}\n",
    "\n",
    "for char in {a..z}\n",
    "do\n",
    "    touch ${TMPDIR}/${char}.txt\n",
    "done\n",
    "\n",
    "tree .\n",
    "\n",
    "rm -rf ${TMPDIR}\n",
    "\n",
    "ls"
   ]
  },
  {
   "cell_type": "code",
   "execution_count": null,
   "metadata": {},
   "outputs": [],
   "source": []
  }
 ],
 "metadata": {
  "kernelspec": {
   "display_name": "Python 3",
   "language": "python",
   "name": "python3"
  },
  "language_info": {
   "codemirror_mode": {
    "name": "ipython",
    "version": 3
   },
   "file_extension": ".py",
   "mimetype": "text/x-python",
   "name": "python",
   "nbconvert_exporter": "python",
   "pygments_lexer": "ipython3",
   "version": "3.6.7"
  },
  "toc": {
   "base_numbering": 1,
   "nav_menu": {},
   "number_sections": false,
   "sideBar": false,
   "skip_h1_title": false,
   "title_cell": "Table of Contents",
   "title_sidebar": "Contents",
   "toc_cell": false,
   "toc_position": {},
   "toc_section_display": false,
   "toc_window_display": false
  }
 },
 "nbformat": 4,
 "nbformat_minor": 2
}
